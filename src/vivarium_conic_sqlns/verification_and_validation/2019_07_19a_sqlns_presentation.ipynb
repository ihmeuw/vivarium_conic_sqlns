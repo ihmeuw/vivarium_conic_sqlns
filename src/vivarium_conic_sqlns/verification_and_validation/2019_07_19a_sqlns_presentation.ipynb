{
 "cells": [
  {
   "cell_type": "markdown",
   "metadata": {},
   "source": [
    "Author: Yongquan Xie<br>\n",
    "Date: July 19, 2019<br>\n",
    "Purpose: SQ-LNS presentation Nigeria results preparation<br>\n",
    "Note: Yongquan and Nathaniel will give this presentation on August 1, 2019"
   ]
  },
  {
   "cell_type": "code",
   "execution_count": null,
   "metadata": {},
   "outputs": [],
   "source": [
    "%matplotlib inline\n",
    "\n",
    "import pandas as pd\n",
    "import matplotlib.pyplot as plt\n",
    "from ipywidgets import interact\n",
    "\n",
    "pd.set_option('display.max_rows', 8)"
   ]
  },
  {
   "cell_type": "code",
   "execution_count": null,
   "metadata": {},
   "outputs": [],
   "source": [
    "result_dir = '/share/costeffectiveness/results/sqlns/presentation/'\n",
    "\n",
    "history_data = pd.read_hdf(result_dir + 'sample_history/2019_07_18_14_40_53/sample_history.hdf')"
   ]
  },
  {
   "cell_type": "code",
   "execution_count": null,
   "metadata": {},
   "outputs": [],
   "source": [
    "history_data"
   ]
  },
  {
   "cell_type": "code",
   "execution_count": null,
   "metadata": {},
   "outputs": [],
   "source": [
    "history_data[history_data.sqlns_treatment_start.notna()]"
   ]
  },
  {
   "cell_type": "code",
   "execution_count": null,
   "metadata": {},
   "outputs": [],
   "source": [
    "cause_names = ['lower_respiratory_infections', 'measles', 'diarrheal_diseases', 'protein_energy_malnutrition', 'iron_deficiency', 'other_causes']\n",
    "risk_names = ['anemia', 'child_stunting', 'child_wasting']\n",
    "\n",
    "template_cols = ['coverage', 'duration', 'child_stunting_permanent', 'child_wasting_permanent', 'iron_deficiency_permanent', 'iron_deficiency_mean', 'cause', 'measure', 'input_draw']"
   ]
  },
  {
   "cell_type": "code",
   "execution_count": null,
   "metadata": {},
   "outputs": [],
   "source": [
    "# note that we have applied coefficient of variation as constant with different sqlns effect on iron deficiency\n",
    "def clean_and_aggregate(path):\n",
    "    r = pd.read_hdf(path + 'nigeria/2019_07_18_13_20_17/output.hdf')\n",
    "    r.rename(columns={'sqlns.effect_on_child_stunting.permanent': 'child_stunting_permanent',\n",
    "                      'sqlns.effect_on_child_wasting.permanent': 'child_wasting_permanent',\n",
    "                      'sqlns.effect_on_iron_deficiency.permanent': 'iron_deficiency_permanent',\n",
    "                      'sqlns.effect_on_iron_deficiency.mean': 'iron_deficiency_mean',\n",
    "                      'sqlns.program_coverage': 'coverage',\n",
    "                      'sqlns.duration': 'duration'}, inplace=True)\n",
    "    r['coverage'] *= 100\n",
    "    r = r.groupby(['coverage', 'duration', 'child_stunting_permanent', 'child_wasting_permanent', 'iron_deficiency_permanent', 'iron_deficiency_mean', 'input_draw']).sum()\n",
    "    return r"
   ]
  },
  {
   "cell_type": "code",
   "execution_count": null,
   "metadata": {},
   "outputs": [],
   "source": [
    "r = clean_and_aggregate(result_dir)"
   ]
  },
  {
   "cell_type": "code",
   "execution_count": null,
   "metadata": {},
   "outputs": [],
   "source": [
    "def standardize_shape(data, measure):\n",
    "    measure_data = data.loc[:, [c for c in data.columns if measure in c]]\n",
    "    measure_data = measure_data.stack().reset_index().rename(columns={'level_7': 'label', 0: 'value'})\n",
    "    if 'due_to' in measure:\n",
    "        measure, cause = measure.split('_due_to_', 1)\n",
    "        measure_data.loc[:, 'measure'] = measure\n",
    "        measure_data.loc[:, 'cause'] = cause\n",
    "    else:\n",
    "        measure_data.loc[:, 'measure'] = measure  \n",
    "    measure_data.drop(columns='label', inplace=True)\n",
    "    \n",
    "    return measure_data"
   ]
  },
  {
   "cell_type": "code",
   "execution_count": null,
   "metadata": {},
   "outputs": [],
   "source": [
    "def get_person_time(data):\n",
    "    pt = standardize_shape(data, 'person_time')\n",
    "    pt = pt.rename(columns={'value': 'person_time'}).drop(columns='measure')\n",
    "    return pt"
   ]
  },
  {
   "cell_type": "code",
   "execution_count": null,
   "metadata": {},
   "outputs": [],
   "source": [
    "def get_disaggregated_results(data, cause_names):\n",
    "    deaths = []\n",
    "    ylls = []\n",
    "    ylds = []\n",
    "    dalys = []\n",
    "    for cause in cause_names:\n",
    "        if cause in cause_names[:4]:\n",
    "            deaths.append(standardize_shape(data, f'death_due_to_{cause}'))\n",
    "            \n",
    "            ylls_sub = standardize_shape(data, f'ylls_due_to_{cause}')\n",
    "            ylds_sub = standardize_shape(data, f'ylds_due_to_{cause}')\n",
    "            dalys_sub = (ylds_sub.set_index([c for c in template_cols if c != 'measure']) + \\\n",
    "                         ylls_sub.set_index([c for c in template_cols if c != 'measure'])).reset_index()\n",
    "            dalys_sub['measure'] = 'dalys'\n",
    "            \n",
    "            ylls.append(ylls_sub)\n",
    "            ylds.append(ylds_sub)\n",
    "            dalys.append(dalys_sub)\n",
    "        elif cause == 'iron_deficiency':\n",
    "            ylds_sub = standardize_shape(data, f'ylds_due_to_{cause}')     \n",
    "            dalys_sub = ylds_sub.copy()\n",
    "            dalys_sub['measure'] = 'dalys'\n",
    "            \n",
    "            ylds.append(ylds_sub)\n",
    "            dalys.append(dalys_sub)\n",
    "        else: # cause == 'other_causes'\n",
    "            deaths.append(standardize_shape(data, f'death_due_to_{cause}'))\n",
    "            \n",
    "            ylls_sub = standardize_shape(data, f'ylls_due_to_{cause}')\n",
    "            dalys_sub = ylls_sub.copy()\n",
    "            dalys_sub['measure'] = 'dalys'\n",
    "            \n",
    "            ylls.append(ylls_sub)\n",
    "            dalys.append(dalys_sub)\n",
    "    \n",
    "    death_data = pd.concat(deaths)\n",
    "    yll_data = pd.concat(ylls)\n",
    "    yld_data = pd.concat(ylds)\n",
    "    daly_data = pd.concat(dalys)\n",
    "    \n",
    "    output = pd.concat([death_data, yll_data, yld_data, daly_data])\n",
    "    output = output.set_index(template_cols).sort_index()\n",
    "    \n",
    "    return output.reset_index()"
   ]
  },
  {
   "cell_type": "code",
   "execution_count": null,
   "metadata": {},
   "outputs": [],
   "source": [
    "output = get_disaggregated_results(r, cause_names)"
   ]
  },
  {
   "cell_type": "code",
   "execution_count": null,
   "metadata": {},
   "outputs": [],
   "source": [
    "df = pd.merge(output, get_person_time(r), on=[c for c in template_cols if c not in ['cause', 'measure']])"
   ]
  },
  {
   "cell_type": "code",
   "execution_count": null,
   "metadata": {},
   "outputs": [],
   "source": [
    "def get_averted_results(df):\n",
    "    bau = df[df.coverage == 0.0].drop(columns=['coverage', 'person_time'])\n",
    "    t = pd.merge(df, bau, on=template_cols[1:], suffixes=['', '_bau'])\n",
    "    t['averted'] = t['value_bau'] - t['value']\n",
    "    t.drop(columns='value_bau', inplace=True)\n",
    "    \n",
    "    t['value'] = (t['value']/t['person_time']) * 100_000\n",
    "    t['averted'] = (t['averted']/t['person_time']) * 100_000\n",
    "    \n",
    "    return t"
   ]
  },
  {
   "cell_type": "code",
   "execution_count": null,
   "metadata": {},
   "outputs": [],
   "source": [
    "def get_final_table(data):\n",
    "    g = data.groupby(template_cols[:-1])[['person_time', 'value', 'averted']]\\\n",
    "            .describe(percentiles=[.025, .975])\n",
    "    \n",
    "    table = g.filter([('value', 'mean'), ('value', '2.5%'), ('value', '97.5%'),\n",
    "                      ('person_time', 'mean'), ('person_time', '2.5%'), ('person_time', '97.5%'),\n",
    "                      ('averted', 'mean'), ('averted', '2.5%'), ('averted', '97.5%')])\n",
    "    return table"
   ]
  },
  {
   "cell_type": "code",
   "execution_count": null,
   "metadata": {},
   "outputs": [],
   "source": [
    "table_shell = get_final_table(get_averted_results(df))"
   ]
  },
  {
   "cell_type": "code",
   "execution_count": null,
   "metadata": {},
   "outputs": [],
   "source": [
    "table_shell"
   ]
  },
  {
   "cell_type": "code",
   "execution_count": null,
   "metadata": {},
   "outputs": [],
   "source": [
    "@interact()\n",
    "def plot_dalys_averted(duration=[365.25, 730.50],\n",
    "                       child_stunting_permanent=[0, 1],\n",
    "                       child_wasting_permanent=[0, 1],\n",
    "                       iron_deficiency_permanent=[0, 1],\n",
    "                       iron_deficiency_mean=[0.895, 4.475, 8.950]):\n",
    "    \n",
    "    df = table_shell.reset_index()\n",
    "    \n",
    "    data = df.loc[(df.duration == duration)\n",
    "                  & (df.child_stunting_permanent == child_stunting_permanent)\n",
    "                  & (df.child_wasting_permanent == child_wasting_permanent)\n",
    "                  & (df.iron_deficiency_permanent == iron_deficiency_permanent)\n",
    "                  & (df.iron_deficiency_mean == iron_deficiency_mean)\n",
    "                  & (df.measure == 'dalys')]\n",
    "    \n",
    "    plt.figure(figsize=(12, 8))\n",
    "    \n",
    "    for cause in cause_names[:-1]:\n",
    "        data_sub = data.loc[data.cause == cause]\n",
    "        \n",
    "        xx = data_sub['coverage']\n",
    "        mean = data_sub[('averted', 'mean')]\n",
    "        lb = data_sub[('averted', '2.5%')]\n",
    "        ub = data_sub[('averted', '97.5%')]\n",
    "        \n",
    "        plt.plot(xx, mean, '-o', label=cause)\n",
    "        plt.fill_between(xx, lb, ub, alpha=0.1)\n",
    "    \n",
    "    plt.title('Nigeria')\n",
    "    plt.xlabel('Program Coverage (%)')\n",
    "    plt.ylabel('DALYs Averted (per100,000PY)')\n",
    "    plt.legend(loc=(1.05, .05))\n",
    "    plt.grid()"
   ]
  },
  {
   "cell_type": "code",
   "execution_count": null,
   "metadata": {},
   "outputs": [],
   "source": []
  }
 ],
 "metadata": {
  "kernelspec": {
   "display_name": "Python 3",
   "language": "python",
   "name": "python3"
  },
  "language_info": {
   "codemirror_mode": {
    "name": "ipython",
    "version": 3
   },
   "file_extension": ".py",
   "mimetype": "text/x-python",
   "name": "python",
   "nbconvert_exporter": "python",
   "pygments_lexer": "ipython3",
   "version": "3.6.8"
  }
 },
 "nbformat": 4,
 "nbformat_minor": 4
}
