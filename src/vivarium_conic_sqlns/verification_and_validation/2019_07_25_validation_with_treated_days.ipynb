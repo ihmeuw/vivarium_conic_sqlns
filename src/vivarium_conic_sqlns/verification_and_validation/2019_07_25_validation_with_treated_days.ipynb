{
 "cells": [
  {
   "cell_type": "markdown",
   "metadata": {},
   "source": [
    "Author: Yongquan Xie, Nathaniel Blair-Stahn<br>\n",
    "Date: July 25, 2019<br>\n",
    "Purpose: SQ-LNS presentation Nigeria results preparation<br>\n",
    "Note: Yongquan and Nathaniel will give this presentation on August 1, 2019"
   ]
  },
  {
   "cell_type": "code",
   "execution_count": null,
   "metadata": {},
   "outputs": [],
   "source": [
    "%matplotlib inline\n",
    "\n",
    "import pandas as pd\n",
    "import matplotlib.pyplot as plt\n",
    "from ipywidgets import interact, FloatSlider, IntSlider\n",
    "\n",
    "pd.set_option('display.max_rows', 8)\n",
    "\n",
    "!date\n",
    "!whoami"
   ]
  },
  {
   "cell_type": "markdown",
   "metadata": {},
   "source": [
    "## Load output data and aggregate over random seeds"
   ]
  },
  {
   "cell_type": "code",
   "execution_count": null,
   "metadata": {},
   "outputs": [],
   "source": [
    "cause_names = ['lower_respiratory_infections', 'measles', 'diarrheal_diseases', \n",
    "               'protein_energy_malnutrition', 'iron_deficiency', 'other_causes']\n",
    "risk_names = ['anemia', 'child_stunting', 'child_wasting']\n",
    "\n",
    "template_cols = ['coverage', 'duration', 'child_stunting_permanent', \n",
    "                 'child_wasting_permanent', 'iron_deficiency_permanent', \n",
    "                 'iron_deficiency_mean', 'cause', 'measure', 'input_draw']\n",
    "\n",
    "result_dir = '/share/costeffectiveness/results/sqlns/presentation/nigeria/2019_07_23_10_57_25'"
   ]
  },
  {
   "cell_type": "code",
   "execution_count": null,
   "metadata": {},
   "outputs": [],
   "source": [
    "# note that we have applied coefficient of variation as constant with different sqlns effect on iron deficiency\n",
    "def clean_and_aggregate(path, filename):\n",
    "#     r = pd.read_hdf(path + 'nigeria/2019_07_18_13_20_17/output.hdf')\n",
    "    r = pd.read_hdf(f'{path}/{filename}')\n",
    "    r.rename(columns={'sqlns.effect_on_child_stunting.permanent': 'child_stunting_permanent',\n",
    "                      'sqlns.effect_on_child_wasting.permanent': 'child_wasting_permanent',\n",
    "                      'sqlns.effect_on_iron_deficiency.permanent': 'iron_deficiency_permanent',\n",
    "                      'sqlns.effect_on_iron_deficiency.mean': 'iron_deficiency_mean',\n",
    "                      'sqlns.program_coverage': 'coverage',\n",
    "                      'sqlns.duration': 'duration'}, inplace=True)\n",
    "    r['coverage'] *= 100\n",
    "    # The 'sqlns_treated_days' column got subtracted in the wrong order for the 2019_07_23_10_57_25 run:\n",
    "    r['sqlns_treated_days'] = -1 * r['sqlns_treated_days'] # This line should be deleted once the code is fixed\n",
    "    r = r.groupby(['coverage', 'duration', 'child_stunting_permanent', 'child_wasting_permanent', 'iron_deficiency_permanent', 'iron_deficiency_mean', 'input_draw']).sum()\n",
    "    return r"
   ]
  },
  {
   "cell_type": "code",
   "execution_count": null,
   "metadata": {},
   "outputs": [],
   "source": [
    "# Load outpt data - as of 2019-07-25 there are random seeds missing\n",
    "r = clean_and_aggregate(result_dir, 'output.hdf')\n",
    "# Raw data aggregated by random seed, with intervention columns renamed\n",
    "r"
   ]
  },
  {
   "cell_type": "markdown",
   "metadata": {},
   "source": [
    "## Get a list of the unique draws for plotting by draw"
   ]
  },
  {
   "cell_type": "code",
   "execution_count": null,
   "metadata": {},
   "outputs": [],
   "source": [
    "draws = r.reset_index().input_draw.unique()\n",
    "draws"
   ]
  },
  {
   "cell_type": "markdown",
   "metadata": {},
   "source": [
    "## Plot total YLLs and YLDs vs. coverage for each draw\n",
    "\n",
    "Raw YLLs and YLDs are plotted side by side with the rates per 100,000 person years. Plots should be monotonically decreasing as coverage level increases.\n",
    "\n",
    "Create a `pandas.IndexSlice` object to easily select with the multi-index of the original aggregated dataframe."
   ]
  },
  {
   "cell_type": "code",
   "execution_count": null,
   "metadata": {},
   "outputs": [],
   "source": [
    "# Create a pandas IndexSlice object to easily multi-index the original dataframe\n",
    "idx = pd.IndexSlice\n",
    "r.loc[idx[:, 365.25, False, False, False, 0.895, 55],\n",
    "      ['years_of_life_lost', 'years_lived_with_disability', 'person_time']].reset_index()"
   ]
  },
  {
   "cell_type": "code",
   "execution_count": null,
   "metadata": {},
   "outputs": [],
   "source": [
    "@interact()\n",
    "def plot_total_dalys_by_draw(duration=[365.25, 730.50],\n",
    "                    cgf_permanent=[False, True],\n",
    "                    iron_permanent=[False, True],\n",
    "                    iron_mean=[0.895, 4.475, 8.950],\n",
    "                    input_draw = draws,\n",
    "                  ):\n",
    "    \n",
    "    data = r.loc[idx[:, duration, cgf_permanent, cgf_permanent, iron_permanent, iron_mean, input_draw],\n",
    "      ['years_of_life_lost', 'years_lived_with_disability', 'person_time']].reset_index()\n",
    "    \n",
    "    fig, ax = plt.subplots(2,2, figsize=(12,8))\n",
    "    \n",
    "    xx = data['coverage']\n",
    "    \n",
    "    measures_short_names = {'years_of_life_lost': 'YLL', 'years_lived_with_disability': 'YLD'}\n",
    "\n",
    "    for i, (measure, short_name) in enumerate(measures_short_names.items()):\n",
    "        ax[i,0].plot(xx, data[measure], '-o')\n",
    "        ax[i,1].plot(xx, 100_000*data[measure] / data['person_time'], '-o', color='orange')\n",
    "    \n",
    "        ax[i,0].set_title(f'Total {short_name} count vs. coverage', fontsize=20)\n",
    "        ax[i,0].set_xlabel('Program Coverage (%)', fontsize=16)\n",
    "        ax[i,0].set_ylabel(f'{short_name}s', fontsize=20)\n",
    "        ax[i,0].grid()\n",
    "#         ax[i,0].legend(loc=(0.8, -.25), fontsize=14)\n",
    "\n",
    "        ax[i,1].set_title(f'Total {short_name} rate vs. coverage', fontsize=20)\n",
    "        ax[i,1].set_xlabel('Program Coverage (%)', fontsize=16)\n",
    "        ax[i,1].set_ylabel(f'{short_name}s per 100,000 person years', fontsize=12)\n",
    "        ax[i,1].grid()\n",
    "        \n",
    "    fig.tight_layout()"
   ]
  },
  {
   "cell_type": "markdown",
   "metadata": {},
   "source": [
    "## Plot treated days and estimated fraction of population treated for all draws"
   ]
  },
  {
   "cell_type": "code",
   "execution_count": null,
   "metadata": {},
   "outputs": [],
   "source": [
    "r.filter(regex='treated_days|population|person_time')"
   ]
  },
  {
   "cell_type": "code",
   "execution_count": null,
   "metadata": {},
   "outputs": [],
   "source": [
    "# The fraction of population tracked is about 54.4% for all scenarios and draws.\n",
    "# Why? How do you compute this?\n",
    "(r['total_population_tracked']/r['total_population']).describe()"
   ]
  },
  {
   "cell_type": "code",
   "execution_count": null,
   "metadata": {},
   "outputs": [],
   "source": [
    "days_per_year = 365.25\n",
    "years_of_simulation = 5\n",
    "\n",
    "@interact()\n",
    "def plot_treated_days_by_draw(duration=[365.25, 730.50],\n",
    "                    cgf_permanent=[False, True],\n",
    "                    iron_permanent=[False, True],\n",
    "                    iron_mean=[0.895, 4.475, 8.950],\n",
    "                    input_draw = draws,\n",
    "                  ):\n",
    "    \n",
    "    data = r.loc[idx[:, duration, cgf_permanent, cgf_permanent, iron_permanent, iron_mean, input_draw],\n",
    "      ['sqlns_treated_days', 'total_population_living', 'total_population_tracked', 'person_time']].reset_index()\n",
    "    \n",
    "    fig, ax = plt.subplots(1,2, figsize=(13,6))\n",
    "    \n",
    "    xx = data['coverage']\n",
    "    \n",
    "\n",
    "    ax[0].plot(xx, data['sqlns_treated_days'] / days_per_year, '-o')\n",
    "#     # This is computing something like \"average person years per treatment year for a treated simulant\",\n",
    "#     # then multiplying that by the number of treated years over the number of person years.\n",
    "#     ax[1].plot(xx,\n",
    "#                (data['total_population_living'] / data['total_population_tracked']) *\n",
    "#                years_of_simulation * data['sqlns_treated_days'] / (duration * data['person_time']),\n",
    "#                '-o', color='orange')\n",
    "    ax[1].plot(xx, data['sqlns_treated_days'] / (duration * data['total_population_tracked']),\n",
    "               '-o', color='orange')\n",
    "\n",
    "    ax[0].set_title('Treated years vs. coverage', fontsize=20)\n",
    "    ax[0].set_xlabel('Program Coverage (%)', fontsize=16)\n",
    "    ax[0].set_ylabel('SQ-LNS treated years', fontsize=20)\n",
    "    ax[0].grid()\n",
    "#         ax[i,0].legend(loc=(0.8, -.25), fontsize=14)\n",
    "\n",
    "    ax[1].set_title('Estimated fraction of\\npopulation treated vs. coverage', fontsize=20)\n",
    "    ax[1].set_xlabel('Program Coverage (%)', fontsize=16)\n",
    "#     ax[1].set_ylabel('(survival-rate)\\nx (simulation-duration / treatment-duration)\\nx (treated-years / person-years)', fontsize=12)\n",
    "    ax[1].set_ylabel('sqlns_treated_time /\\n(treatment_duration x population_tracked)', fontsize=12)\n",
    "    ax[1].grid()\n",
    "        \n",
    "    fig.tight_layout()"
   ]
  },
  {
   "cell_type": "markdown",
   "metadata": {},
   "source": [
    "### Based on the graphs, estimated coverage is close to program coverage -- how close?\n",
    "\n",
    "The maximum difference is less than 2%, with a mean around 0.28%."
   ]
  },
  {
   "cell_type": "code",
   "execution_count": null,
   "metadata": {},
   "outputs": [],
   "source": [
    "(100*r.sqlns_treated_days / \n",
    " (r.index.get_level_values('duration') * r.total_population_tracked)\n",
    " - r.index.get_level_values('coverage')).describe()"
   ]
  },
  {
   "cell_type": "markdown",
   "metadata": {},
   "source": [
    "### If we invert the equation to estimate treated years from coverage, how close do we get?\n",
    "\n",
    "The maximum difference is about 1764 treated years, with a mean around 208 treated years."
   ]
  },
  {
   "cell_type": "code",
   "execution_count": null,
   "metadata": {},
   "outputs": [],
   "source": [
    "((r.sqlns_treated_days\n",
    " - 0.01*r.index.get_level_values('coverage')\n",
    " * r.index.get_level_values('duration')\n",
    " * r.total_population_tracked)/days_per_year).describe()"
   ]
  },
  {
   "cell_type": "markdown",
   "metadata": {},
   "source": [
    "### Check that deaths due to different causes add up to `total_population_dead`:  Yes, true"
   ]
  },
  {
   "cell_type": "code",
   "execution_count": null,
   "metadata": {},
   "outputs": [],
   "source": [
    "# Deaths due to any cause add up to total deaths\n",
    "(r.filter(like='death').sum(axis=1) - r.total_population_dead).sum()"
   ]
  },
  {
   "cell_type": "markdown",
   "metadata": {},
   "source": [
    "## Define functions to transform data into \"long\" form suitible for more analysis/graphing"
   ]
  },
  {
   "cell_type": "code",
   "execution_count": null,
   "metadata": {},
   "outputs": [],
   "source": [
    "def standardize_shape(data, measure):\n",
    "    measure_data = data.loc[:, [c for c in data.columns if measure in c]]\n",
    "    measure_data = measure_data.stack().reset_index().rename(columns={'level_7': 'label', 0: 'value'})\n",
    "    if 'due_to' in measure:\n",
    "        measure, cause = measure.split('_due_to_', 1)\n",
    "        measure_data.loc[:, 'measure'] = measure\n",
    "        measure_data.loc[:, 'cause'] = cause\n",
    "    else:\n",
    "        measure_data.loc[:, 'measure'] = measure  \n",
    "    measure_data.drop(columns='label', inplace=True)\n",
    "    \n",
    "    return measure_data"
   ]
  },
  {
   "cell_type": "code",
   "execution_count": null,
   "metadata": {},
   "outputs": [],
   "source": [
    "def get_person_time(data):\n",
    "    pt = standardize_shape(data, 'person_time')\n",
    "    pt = pt.rename(columns={'value': 'person_time'}).drop(columns='measure')\n",
    "    return pt"
   ]
  },
  {
   "cell_type": "code",
   "execution_count": null,
   "metadata": {},
   "outputs": [],
   "source": [
    "def get_treated_days(data):\n",
    "    treated = standardize_shape(data, 'sqlns_treated_days')\n",
    "    treated = treated.rename(columns={'value': 'sqlns_treated_days'}).drop(columns='measure')\n",
    "    return treated"
   ]
  },
  {
   "cell_type": "code",
   "execution_count": null,
   "metadata": {},
   "outputs": [],
   "source": [
    "def get_disaggregated_results(data, cause_names):\n",
    "    deaths = []\n",
    "    ylls = []\n",
    "    ylds = []\n",
    "    dalys = []\n",
    "    for cause in cause_names:\n",
    "        if cause in cause_names[:4]:\n",
    "            deaths.append(standardize_shape(data, f'death_due_to_{cause}'))\n",
    "            \n",
    "            ylls_sub = standardize_shape(data, f'ylls_due_to_{cause}')\n",
    "            ylds_sub = standardize_shape(data, f'ylds_due_to_{cause}')\n",
    "            dalys_sub = (ylds_sub.set_index([c for c in template_cols if c != 'measure']) + \\\n",
    "                         ylls_sub.set_index([c for c in template_cols if c != 'measure'])).reset_index()\n",
    "            dalys_sub['measure'] = 'dalys'\n",
    "            \n",
    "            ylls.append(ylls_sub)\n",
    "            ylds.append(ylds_sub)\n",
    "            dalys.append(dalys_sub)\n",
    "        elif cause == 'iron_deficiency':\n",
    "            ylds_sub = standardize_shape(data, f'ylds_due_to_{cause}')     \n",
    "            dalys_sub = ylds_sub.copy()\n",
    "            dalys_sub['measure'] = 'dalys'\n",
    "            \n",
    "            ylds.append(ylds_sub)\n",
    "            dalys.append(dalys_sub)\n",
    "        else: # cause == 'other_causes'\n",
    "            deaths.append(standardize_shape(data, f'death_due_to_{cause}'))\n",
    "            \n",
    "            ylls_sub = standardize_shape(data, f'ylls_due_to_{cause}')\n",
    "            dalys_sub = ylls_sub.copy()\n",
    "            dalys_sub['measure'] = 'dalys'\n",
    "            \n",
    "            ylls.append(ylls_sub)\n",
    "            dalys.append(dalys_sub)\n",
    "    \n",
    "    death_data = pd.concat(deaths, sort=False)\n",
    "    yll_data = pd.concat(ylls, sort=False)\n",
    "    yld_data = pd.concat(ylds, sort=False)\n",
    "    daly_data = pd.concat(dalys, sort=False)\n",
    "    \n",
    "    output = pd.concat([death_data, yll_data, yld_data, daly_data], sort=False)\n",
    "    output = output.set_index(template_cols).sort_index()\n",
    "    \n",
    "    return output.reset_index()"
   ]
  },
  {
   "cell_type": "code",
   "execution_count": null,
   "metadata": {},
   "outputs": [],
   "source": [
    "def get_all_cause_results(data):\n",
    "    all_cause_data = data[['total_population_dead', \n",
    "                           'years_of_life_lost', \n",
    "                           'years_lived_with_disability']].rename(\n",
    "        columns={'total_population_dead': 'death_due_to_all_causes',\n",
    "                 'years_of_life_lost': 'ylls_due_to_all_causes', \n",
    "                 'years_lived_with_disability': 'ylds_due_to_all_causes'})\n",
    "    \n",
    "    all_cause_data['dalys_due_to_all_causes'] = (all_cause_data['ylls_due_to_all_causes'] \n",
    "                                                 + all_cause_data['ylds_due_to_all_causes'])\n",
    "    \n",
    "    return pd.concat([standardize_shape(all_cause_data, column) for column in all_cause_data.columns], sort=False)"
   ]
  },
  {
   "cell_type": "code",
   "execution_count": null,
   "metadata": {},
   "outputs": [],
   "source": [
    "def get_all_results(data, cause_names):\n",
    "    return pd.concat([get_disaggregated_results(data, cause_names), get_all_cause_results(data)], sort=False)"
   ]
  },
  {
   "cell_type": "markdown",
   "metadata": {},
   "source": [
    "## Get the transformed data and get a list of unique measures to plot"
   ]
  },
  {
   "cell_type": "code",
   "execution_count": null,
   "metadata": {},
   "outputs": [],
   "source": [
    "output = get_all_results(r, cause_names)\n",
    "output"
   ]
  },
  {
   "cell_type": "code",
   "execution_count": null,
   "metadata": {},
   "outputs": [],
   "source": [
    "measures = output.measure.unique()\n",
    "measures"
   ]
  },
  {
   "cell_type": "code",
   "execution_count": null,
   "metadata": {},
   "outputs": [],
   "source": []
  },
  {
   "cell_type": "markdown",
   "metadata": {},
   "source": [
    "## Add columns recording person time and treated time for each (scenario, draw, cause) combination"
   ]
  },
  {
   "cell_type": "code",
   "execution_count": null,
   "metadata": {},
   "outputs": [],
   "source": [
    "join_columns = [c for c in template_cols if c not in ['cause', 'measure']]\n",
    "df = output.merge(get_person_time(r), on=join_columns).merge(get_treated_days(r), on=join_columns)\n",
    "df"
   ]
  },
  {
   "cell_type": "markdown",
   "metadata": {},
   "source": [
    "## Function to plot mortality/DALY/YLL/YLD by disease at the draw level\n",
    "\n",
    "Each raw measure is plotted side by side with its rate per 100,000 person years. Plots should be monotonically decreasing as coverage level increases."
   ]
  },
  {
   "cell_type": "code",
   "execution_count": null,
   "metadata": {},
   "outputs": [],
   "source": [
    "@interact()\n",
    "def plot_cause_spceific_dalys_by_draw(duration=[365.25, 730.50],\n",
    "                    cgf_permanent=[False, True],\n",
    "                    iron_permanent=[False, True],\n",
    "                    iron_mean=[0.895, 4.475, 8.950],\n",
    "                    input_draw = df.input_draw.unique(),\n",
    "                    measure = df.measure.unique(),\n",
    "                    include_other_causes=True,\n",
    "                    include_all_causes=False,\n",
    "                  ):\n",
    "    \n",
    "    data = df.loc[(df.duration == duration)\n",
    "                  & (df.child_stunting_permanent == cgf_permanent)\n",
    "                  & (df.child_wasting_permanent == cgf_permanent)\n",
    "                  & (df.iron_deficiency_permanent == iron_permanent)\n",
    "                  & (df.iron_deficiency_mean == iron_mean)\n",
    "                  & (df.input_draw == input_draw)\n",
    "                  & (df.measure == measure)]\n",
    "    \n",
    "    fig, ax = plt.subplots(1,2, figsize=(18,8))\n",
    "    \n",
    "    # 'other_causes' value is much higher - can omit by indexing with [:-1]\n",
    "    displayed_causes = cause_names if include_other_causes else cause_names[:-1]\n",
    "    if include_all_causes:\n",
    "        displayed_causes = displayed_causes + ['all_causes']\n",
    "        \n",
    "    for cause in displayed_causes:\n",
    "        data_sub = data.loc[data.cause == cause]\n",
    "        \n",
    "        xx = data_sub['coverage']\n",
    "        value = data_sub['value']\n",
    "        value_over_pt = 100_000* data_sub['value'] / data_sub['person_time']\n",
    "        \n",
    "        ax[0].plot(xx, value, '-o', label=cause)\n",
    "        ax[1].plot(xx, value_over_pt, '-o')\n",
    "        \n",
    "    singular_measure = measure if measure=='death' else measure[:-1]\n",
    "    plural_measure = 'deaths' if measure=='death' else measure\n",
    "    \n",
    "    ax[0].set_title(f'{singular_measure.upper()} count by disease vs. coverage', fontsize=20)\n",
    "    ax[0].set_xlabel('Program Coverage (%)', fontsize=20)\n",
    "    ax[0].set_ylabel(f'{plural_measure.upper()}', fontsize=20)\n",
    "    ax[0].grid()\n",
    "    ax[0].legend(loc=(0.9, -.3))\n",
    "    \n",
    "    ax[1].set_title(f'{singular_measure.upper()} rate by disease vs. coverage', fontsize=20)\n",
    "    ax[1].set_xlabel('Program Coverage (%)', fontsize=20)\n",
    "    ax[1].set_ylabel(f'{plural_measure.upper()} per 100,000 person years', fontsize=20)\n",
    "    ax[1].grid()"
   ]
  },
  {
   "cell_type": "markdown",
   "metadata": {},
   "source": [
    "## Well, this is bad - ylds due to iron deficiency are always higher than total ylds"
   ]
  },
  {
   "cell_type": "code",
   "execution_count": null,
   "metadata": {},
   "outputs": [],
   "source": [
    "# r is raw data aggregated by random seed, with intervention columns renamed\n",
    "(r['years_lived_with_disability'] - r['ylds_due_to_iron_deficiency']).describe()"
   ]
  },
  {
   "cell_type": "code",
   "execution_count": null,
   "metadata": {},
   "outputs": [],
   "source": [
    "# Maybe iron deficiency got excluded from the total? Compare total to sum without ID:\n",
    "# They seem pretty close, so maybe that's what happened\n",
    "# Except then this difference should always be positive, so this doesn't make sense\n",
    "(r.filter(regex='ylds_due_to_(?!iron)').sum(axis=1) - r['years_lived_with_disability']).describe()"
   ]
  },
  {
   "cell_type": "markdown",
   "metadata": {},
   "source": [
    "## Function to compute averted deaths/DALYs/YLLs/YLDs and treatment days per averted"
   ]
  },
  {
   "cell_type": "code",
   "execution_count": null,
   "metadata": {},
   "outputs": [],
   "source": [
    "def get_averted_results(df):\n",
    "    bau = df[df.coverage == 0.0].drop(columns=['coverage', 'sqlns_treated_days'])\n",
    "    t = pd.merge(df, bau, on=template_cols[1:], suffixes=['', '_bau'])\n",
    "    \n",
    "    # Averted raw value\n",
    "    t['averted'] = t['value_bau'] - t['value']\n",
    "    \n",
    "    # Get value per 100,000 PY\n",
    "    t['value_rate'] = 100_000 * t['value'] / t['person_time']\n",
    "    \n",
    "    # Averted value per 100,000 PY:\n",
    "    t['averted_rate'] = (t['value_bau']/t['person_time_bau'] - t['value_rate']) * 100_000\n",
    "    \n",
    "    # Treated days per averted DALY/YLL/YLD/death can be multiplied\n",
    "    # by cost per day of treatment to compute cost effectiveness\n",
    "    t['treated_days_per_averted'] = t['sqlns_treated_days']/t['averted'] # Note divide-by-0 in baseline - ratio is undefined\n",
    "    t['treated_days_per_averted_rate'] = 100_000*(t['sqlns_treated_days']/(t['person_time']*t['averted_rate'])) # Note divide-by-0 in baseline\n",
    "    \n",
    "#     t['value'] = (t['value']/t['person_time']) * 100_000\n",
    "#     t['averted'] = (t['averted']/t['person_time']) * 100_000\n",
    "    \n",
    "    return t"
   ]
  },
  {
   "cell_type": "markdown",
   "metadata": {},
   "source": [
    "## Compute averted deaths/DALYs/YLLs/YLDs per person year"
   ]
  },
  {
   "cell_type": "code",
   "execution_count": null,
   "metadata": {},
   "outputs": [],
   "source": [
    "averted_df = get_averted_results(df)\n",
    "averted_df"
   ]
  },
  {
   "cell_type": "code",
   "execution_count": null,
   "metadata": {},
   "outputs": [],
   "source": [
    "# Ranges of costs per year based on cost per day of SQ-LNS\n",
    "print(.11*365, .25*365, 0.03*365)"
   ]
  },
  {
   "cell_type": "markdown",
   "metadata": {},
   "source": [
    "## Plot ICERs at draw level"
   ]
  },
  {
   "cell_type": "code",
   "execution_count": null,
   "metadata": {},
   "outputs": [],
   "source": [
    "averted_cause_list = averted_df.cause.unique()\n",
    "cost_slider = IntSlider(value=50, min=5, max=100, step=5, continuous_update=False)\n",
    "\n",
    "@interact()\n",
    "def plot_icers_by_draw(duration=[365.25, 730.50],\n",
    "                    cgf_permanent=[False, True],\n",
    "                    iron_permanent=[False, True],\n",
    "                    iron_mean=[0.895, 4.475, 8.950],\n",
    "                    input_draw = draws,\n",
    "                              measure=measures,\n",
    "                              cause=averted_cause_list,\n",
    "                              cost_per_py=cost_slider,\n",
    "                  ):\n",
    "    \n",
    "    data = averted_df\n",
    "    data = data.loc[(data.duration == duration)\n",
    "                  & (data.child_stunting_permanent == cgf_permanent)\n",
    "                  & (data.child_wasting_permanent == cgf_permanent)\n",
    "                  & (data.iron_deficiency_permanent == iron_permanent)\n",
    "                  & (data.iron_deficiency_mean == iron_mean)\n",
    "                  & (data.input_draw == input_draw)\n",
    "                  & (data.cause == cause)\n",
    "                  & (data.measure == measure)]\n",
    "    \n",
    "    fig, ax = plt.subplots(2,2, figsize=(12,8))\n",
    "    \n",
    "    xx = data['coverage']\n",
    "    \n",
    "\n",
    "    ax[0,0].plot(xx, cost_per_py * data['sqlns_treated_days'] / days_per_year, '-o')\n",
    "    ax[1,0].plot(xx, data['averted'], '-o', color='green')\n",
    "    ax[0,1].plot(xx, cost_per_py * data['treated_days_per_averted'] / days_per_year,\n",
    "               '-o', color='orange')\n",
    "    ax[1,1].plot(xx, cost_per_py * data['treated_days_per_averted_rate'] / days_per_year,\n",
    "               '-o', color='orange')\n",
    "\n",
    "    ax[0,0].set_title('Total cost vs. coverage', fontsize=20)\n",
    "    ax[0,0].set_xlabel('Program Coverage (%)', fontsize=16)\n",
    "    ax[0,0].set_ylabel('Cost of SQ-LNS\\ntreatment ($)', fontsize=16)\n",
    "    ax[0,0].grid()\n",
    "#         ax[i,0].legend(loc=(0.8, -.25), fontsize=14)\n",
    "\n",
    "    ax[1,0].set_title(f'Averted {measure} vs. coverage', fontsize=20)\n",
    "    ax[1,0].set_xlabel('Program Coverage (%)', fontsize=16)\n",
    "    ax[1,0].set_ylabel(f'Averted {measure}', fontsize=20)\n",
    "    ax[1,0].grid()\n",
    "\n",
    "    ax[0,1].set_title('Cost effectiveness (ICERs)\\nvs. coverage', fontsize=20)\n",
    "    ax[0,1].set_xlabel('Program Coverage (%)', fontsize=16)\n",
    "    ax[0,1].set_ylabel(f'Cost per averted {measure}', fontsize=12)\n",
    "    ax[0,1].grid()\n",
    "    \n",
    "    ax[1,1].set_title('Cost effectiveness (ICERs)\\nvs. coverage', fontsize=20)\n",
    "    ax[1,1].set_xlabel('Program Coverage (%)', fontsize=16)\n",
    "    ax[1,1].set_ylabel(f'Cost per averted {measure}\\n(calculated using rate difference)', fontsize=12)\n",
    "    ax[1,1].grid()\n",
    "        \n",
    "    fig.tight_layout()"
   ]
  },
  {
   "cell_type": "markdown",
   "metadata": {},
   "source": [
    "### Note: This dataframe has two infinities in the `treated_days_per_averted` column"
   ]
  },
  {
   "cell_type": "code",
   "execution_count": null,
   "metadata": {},
   "outputs": [],
   "source": [
    "data = averted_df\n",
    "data = data.loc[(data.duration == 365.25)\n",
    "              & (data.child_stunting_permanent == False)\n",
    "              & (data.child_wasting_permanent == False)\n",
    "              & (data.iron_deficiency_permanent == False)\n",
    "              & (data.iron_deficiency_mean == 0.895)\n",
    "              & (data.input_draw == 29)\n",
    "              & (data.cause == 'diarrheal_diseases')\n",
    "              & (data.measure == 'death')\n",
    "#               & (data.coverage == 60)\n",
    "               ]\n",
    "data"
   ]
  },
  {
   "cell_type": "markdown",
   "metadata": {},
   "source": [
    "### Note: This dataframe has very small negative numbers instead of zero, which throws off the calculation"
   ]
  },
  {
   "cell_type": "code",
   "execution_count": null,
   "metadata": {},
   "outputs": [],
   "source": [
    "data = averted_df\n",
    "data = data.loc[(data.duration == 365.25)\n",
    "              & (data.child_stunting_permanent == False)\n",
    "              & (data.child_wasting_permanent == False)\n",
    "              & (data.iron_deficiency_permanent == False)\n",
    "              & (data.iron_deficiency_mean == 0.895)\n",
    "              & (data.input_draw == 602)\n",
    "              & (data.cause == 'measles')\n",
    "              & (data.measure == 'ylls')\n",
    "#               & (data.coverage == 60)\n",
    "               ]\n",
    "data"
   ]
  },
  {
   "cell_type": "markdown",
   "metadata": {},
   "source": [
    "## Function to compute mean and percentiles over draws"
   ]
  },
  {
   "cell_type": "code",
   "execution_count": null,
   "metadata": {},
   "outputs": [],
   "source": [
    "def get_final_table(data):\n",
    "    # Group by all index columns except input_draw to aggregate over draws\n",
    "    g = data.groupby(template_cols[:-1])[['value',\n",
    "                                          'person_time', \n",
    "                                          'sqlns_treated_days',\n",
    "                                          'averted',\n",
    "                                          'averted_rate',\n",
    "                                          'treated_days_per_averted',\n",
    "                                          'treated_days_per_averted_rate',\n",
    "                                         ]]\\\n",
    "            .describe(percentiles=[.025, .975]) # returns mean, stdev, median, percentiles .025 & .975\n",
    "    \n",
    "#     table = g.filter([('value', 'mean'), ('value', '2.5%'), ('value', '97.5%'),\n",
    "#                       ('person_time', 'mean'), ('person_time', '2.5%'), ('person_time', '97.5%'),\n",
    "#                       ('sqlns_treated_days', 'mean'), ('sqlns_treated_days', '2.5%'), ('sqlns_treated_days', '97.5%'),\n",
    "#                       ('averted', 'mean'), ('averted', '2.5%'), ('averted', '97.5%'),\n",
    "#                       ('treated_days_per_averted', 'mean'), ('treated_days_per_averted', '2.5%'), ('treated_days_per_averted', '97.5%'),\n",
    "#                       ])\n",
    "#     return table\n",
    "    return g"
   ]
  },
  {
   "cell_type": "markdown",
   "metadata": {},
   "source": [
    "## Compute aggregated results"
   ]
  },
  {
   "cell_type": "code",
   "execution_count": null,
   "metadata": {},
   "outputs": [],
   "source": [
    "aggregated_results_df = get_final_table(averted_df)\n",
    "aggregated_results_df"
   ]
  },
  {
   "cell_type": "markdown",
   "metadata": {},
   "source": [
    "## Draw graphs of aggregated averted DALYs per 100,000 PY, and DALYs per 100,000 PY"
   ]
  },
  {
   "cell_type": "code",
   "execution_count": null,
   "metadata": {},
   "outputs": [],
   "source": [
    "@interact()\n",
    "def plot_aggregated_averted_rates(duration=[365.25, 730.50],\n",
    "                       cgf_permanent=[False, True],\n",
    "                       iron_permanent=[False, True],\n",
    "                       iron_mean=[0.895, 4.475, 8.950],\n",
    "                       measure = measures,\n",
    "                       include_other_causes=False,\n",
    "                       include_all_causes=False,\n",
    "                      ):\n",
    "    \n",
    "    df = aggregated_results_df.reset_index()\n",
    "    \n",
    "    data = df.loc[(df.duration == duration)\n",
    "                  & (df.child_stunting_permanent == cgf_permanent)\n",
    "                  & (df.child_wasting_permanent == cgf_permanent)\n",
    "                  & (df.iron_deficiency_permanent == iron_permanent)\n",
    "                  & (df.iron_deficiency_mean == iron_mean)\n",
    "                  & (df.measure == measure)]\n",
    "    \n",
    "    plt.figure(figsize=(12, 8))\n",
    "    \n",
    "    # 'other_causes' value is much higher - can omit by indexing with [:-1]\n",
    "    displayed_causes = cause_names if include_other_causes else cause_names[:-1]\n",
    "    if include_all_causes:\n",
    "        displayed_causes = displayed_causes + ['all_causes']\n",
    "        \n",
    "    for cause in displayed_causes:\n",
    "        data_sub = data.loc[data.cause == cause]\n",
    "        \n",
    "        xx = data_sub['coverage']\n",
    "        mean = data_sub[('averted_rate', 'mean')]\n",
    "        lb = data_sub[('averted_rate', '2.5%')]\n",
    "        ub = data_sub[('averted_rate', '97.5%')]\n",
    "        \n",
    "        plt.plot(xx, mean, '-o', label=cause)\n",
    "        plt.fill_between(xx, lb, ub, alpha=0.1)\n",
    "    \n",
    "    plt.title('Nigeria')\n",
    "    plt.xlabel('Program Coverage (%)')\n",
    "    plt.ylabel(f'{measure.upper()} Averted (per 100,000 PY)')\n",
    "    plt.legend(loc=(1.05, .05))\n",
    "    plt.grid()"
   ]
  },
  {
   "cell_type": "code",
   "execution_count": null,
   "metadata": {},
   "outputs": [],
   "source": [
    "@interact()\n",
    "def plot_dalys_per_1e5_py(duration=[365.25, 730.50],\n",
    "                       cgf_permanent=[False, True],\n",
    "                       iron_permanent=[False, True],\n",
    "                       iron_mean=[0.895, 4.475, 8.950],\n",
    "                        include_other_causes=False):\n",
    "    \n",
    "    df = aggregated_results_df.reset_index()\n",
    "    \n",
    "    data = df.loc[(df.duration == duration)\n",
    "                  & (df.child_stunting_permanent == cgf_permanent)\n",
    "                  & (df.child_wasting_permanent == cgf_permanent)\n",
    "                  & (df.iron_deficiency_permanent == iron_permanent)\n",
    "                  & (df.iron_deficiency_mean == iron_mean)\n",
    "                  & (df.measure == 'dalys')]\n",
    "    \n",
    "    plt.figure(figsize=(12, 8))\n",
    "    \n",
    "    # 'other_causes' value is much higher - can omit by indexing with [:-1]\n",
    "    displayed_causes = cause_names if include_other_causes else cause_names[:-1]\n",
    "    for cause in displayed_causes:\n",
    "        data_sub = data.loc[data.cause == cause]\n",
    "        \n",
    "        xx = data_sub['coverage']\n",
    "        mean_per_py = data_sub[('value', 'mean')]\n",
    "        lb = data_sub[('value', '2.5%')]\n",
    "        ub = data_sub[('value', '97.5%')]\n",
    "        \n",
    "        plt.plot(xx, mean_per_py, '-o', label=cause)\n",
    "        plt.fill_between(xx, lb, ub, alpha=0.1)\n",
    "    \n",
    "    plt.title('Nigeria')\n",
    "    plt.xlabel('Program Coverage (%)')\n",
    "    plt.ylabel('DALYs per 100,000 PY')\n",
    "    plt.legend(loc=(1.05, .05))\n",
    "    plt.grid()"
   ]
  },
  {
   "cell_type": "code",
   "execution_count": null,
   "metadata": {},
   "outputs": [],
   "source": []
  },
  {
   "cell_type": "code",
   "execution_count": null,
   "metadata": {},
   "outputs": [],
   "source": [
    "@interact()\n",
    "def plot_icers(duration=[365.25, 730.50],\n",
    "                    cgf_permanent=[False, True],\n",
    "                    iron_permanent=[False, True],\n",
    "                    iron_mean=[0.895, 4.475, 8.950],\n",
    "                              measure=measures,\n",
    "                              cause=averted_cause_list,\n",
    "                              cost_per_py=cost_slider,\n",
    "                  ):\n",
    "    \n",
    "    data = aggregated_results_df.reset_index()\n",
    "    \n",
    "    data = data.loc[(data.duration == duration)\n",
    "                  & (data.child_stunting_permanent == cgf_permanent)\n",
    "                  & (data.child_wasting_permanent == cgf_permanent)\n",
    "                  & (data.iron_deficiency_permanent == iron_permanent)\n",
    "                  & (data.iron_deficiency_mean == iron_mean)\n",
    "                  & (data.cause == cause)\n",
    "                  & (data.measure == measure)]\n",
    "    \n",
    "    fig, ax = plt.subplots(2,2, figsize=(14,9))\n",
    "    \n",
    "    xx = data['coverage']\n",
    "    \n",
    "    # Plot cost vs. coverage\n",
    "    mean = cost_per_py * data[('sqlns_treated_days', 'mean')] / days_per_year\n",
    "    lb = cost_per_py * data[('sqlns_treated_days', '2.5%')] / days_per_year\n",
    "    ub = cost_per_py * data[('sqlns_treated_days', '97.5%')] / days_per_year\n",
    "    ax[0,0].plot(xx, mean, '-o')\n",
    "    ax[0,0].fill_between(xx, lb, ub, alpha=0.1)\n",
    "    \n",
    "    # Plot averted measure vs. coverage\n",
    "    mean = data[('averted', 'mean')]\n",
    "    lb = data[('averted', '2.5%')]\n",
    "    ub = data[('averted', '97.5%')]\n",
    "    ax[1,0].plot(xx, mean, '-o', color='orange')\n",
    "    ax[1,0].fill_between(xx, lb, ub, alpha=0.1, color='orange')\n",
    "    \n",
    "    # Plot ICERs calculated using raw values\n",
    "    mean = cost_per_py * data[('treated_days_per_averted', 'mean')] / days_per_year\n",
    "    lb = cost_per_py * data[('treated_days_per_averted', '2.5%')] / days_per_year\n",
    "    ub = cost_per_py * data[('treated_days_per_averted', '97.5%')] / days_per_year\n",
    "    ax[0,1].plot(xx, mean, '-o', color='green')\n",
    "    ax[0,1].fill_between(xx, lb, ub, alpha=0.1, color='green')\n",
    "    \n",
    "    # Plot ICERs calculated using rates\n",
    "    mean = cost_per_py * data[('treated_days_per_averted_rate', 'mean')] / days_per_year\n",
    "    lb = cost_per_py * data[('treated_days_per_averted_rate', '2.5%')] / days_per_year\n",
    "    ub = cost_per_py * data[('treated_days_per_averted_rate', '97.5%')] / days_per_year\n",
    "    ax[1,1].plot(xx, mean, '-o', color='green')\n",
    "    ax[1,1].fill_between(xx, lb, ub, alpha=0.1, color='green')\n",
    "\n",
    "    ## Label the plots\n",
    "    \n",
    "    ax[0,0].set_title('Total cost vs. coverage', fontsize=16)\n",
    "    ax[0,0].set_xlabel('Program Coverage (%)', fontsize=12)\n",
    "    ax[0,0].set_ylabel('Cost of SQ-LNS\\ntreatment ($)', fontsize=16)\n",
    "    ax[0,0].grid()\n",
    "#         ax[i,0].legend(loc=(0.8, -.25), fontsize=14)\n",
    "\n",
    "    ax[1,0].set_title(f'Averted {measure} vs. coverage', fontsize=16)\n",
    "    ax[1,0].set_xlabel('Program Coverage (%)', fontsize=12)\n",
    "    ax[1,0].set_ylabel(f'Averted {measure}', fontsize=16)\n",
    "    ax[1,0].grid()\n",
    "\n",
    "    ax[0,1].set_title('Cost effectiveness (ICERs)\\nvs. coverage', fontsize=16)\n",
    "    ax[0,1].set_xlabel('Program Coverage (%)', fontsize=12)\n",
    "    ax[0,1].set_ylabel(f'Cost per averted {measure}', fontsize=12)\n",
    "    ax[0,1].grid()\n",
    "    \n",
    "    ax[1,1].set_title('Cost effectiveness (ICERs)\\nvs. coverage', fontsize=16)\n",
    "    ax[1,1].set_xlabel('Program Coverage (%)', fontsize=12)\n",
    "    ax[1,1].set_ylabel(f'Cost per averted {measure}\\n(calculated using rate difference)', fontsize=12)\n",
    "    ax[1,1].grid()\n",
    "        \n",
    "    fig.tight_layout()"
   ]
  },
  {
   "cell_type": "code",
   "execution_count": null,
   "metadata": {},
   "outputs": [],
   "source": [
    "3e6 /600"
   ]
  },
  {
   "cell_type": "code",
   "execution_count": null,
   "metadata": {},
   "outputs": [],
   "source": []
  }
 ],
 "metadata": {
  "kernelspec": {
   "display_name": "Python 3",
   "language": "python",
   "name": "python3"
  },
  "language_info": {
   "codemirror_mode": {
    "name": "ipython",
    "version": 3
   },
   "file_extension": ".py",
   "mimetype": "text/x-python",
   "name": "python",
   "nbconvert_exporter": "python",
   "pygments_lexer": "ipython3",
   "version": "3.6.8"
  }
 },
 "nbformat": 4,
 "nbformat_minor": 4
}
