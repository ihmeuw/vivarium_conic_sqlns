{
 "cells": [
  {
   "cell_type": "markdown",
   "metadata": {},
   "source": [
    "Author: Nathaniel Blair-Stahn<br>\n",
    "Date: July 30, 2019<br>\n",
    "Purpose: Verify bug fix for ylds in Nigeria output and test `sqlns_output_processing.py`"
   ]
  },
  {
   "cell_type": "code",
   "execution_count": null,
   "metadata": {},
   "outputs": [],
   "source": [
    "%matplotlib inline\n",
    "\n",
    "import pandas as pd\n",
    "import matplotlib.pyplot as plt\n",
    "# from ipywidgets import interact, IntSlider\n",
    "\n",
    "pd.set_option('display.max_rows', 8)\n",
    "\n",
    "!date\n",
    "!whoami"
   ]
  },
  {
   "cell_type": "code",
   "execution_count": null,
   "metadata": {},
   "outputs": [],
   "source": [
    "%load_ext autoreload\n",
    "%autoreload 2"
   ]
  },
  {
   "cell_type": "code",
   "execution_count": null,
   "metadata": {},
   "outputs": [],
   "source": [
    "import vivarium_conic_sqlns.verification_and_validation.sqlns_output_processing as sop"
   ]
  },
  {
   "cell_type": "markdown",
   "metadata": {},
   "source": [
    "## Load output from new run"
   ]
  },
  {
   "cell_type": "code",
   "execution_count": null,
   "metadata": {},
   "outputs": [],
   "source": [
    "result_dir = '/share/costeffectiveness/results/sqlns/presentation/nigeria/2019_07_30_00_01_45'"
   ]
  },
  {
   "cell_type": "code",
   "execution_count": null,
   "metadata": {},
   "outputs": [],
   "source": [
    "output = sop.load_output(result_dir, 'output.hdf')\n",
    "output"
   ]
  },
  {
   "cell_type": "markdown",
   "metadata": {},
   "source": [
    "## Check whether 'treated_days' column got fixed - yes, it's now positive"
   ]
  },
  {
   "cell_type": "code",
   "execution_count": null,
   "metadata": {},
   "outputs": [],
   "source": [
    "output.filter(like='treated_days')"
   ]
  },
  {
   "cell_type": "markdown",
   "metadata": {},
   "source": [
    "## Compare total ylds to sum of ylds over all columns and to ylds due to iron deficiency"
   ]
  },
  {
   "cell_type": "code",
   "execution_count": null,
   "metadata": {},
   "outputs": [],
   "source": [
    "def check_yld_sum(output):\n",
    "    \"\"\"\n",
    "    Computes the difference between sum of ylds for all causes and total ylds column.\n",
    "    The difference should be positive for each row of output.\n",
    "    \"\"\"\n",
    "    differences = output.filter(regex='ylds').sum(axis=1) - output.years_lived_with_disability\n",
    "    print(differences.describe())\n",
    "    differences.hist()"
   ]
  },
  {
   "cell_type": "code",
   "execution_count": null,
   "metadata": {},
   "outputs": [],
   "source": [
    "check_yld_sum(output)"
   ]
  },
  {
   "cell_type": "code",
   "execution_count": null,
   "metadata": {},
   "outputs": [],
   "source": [
    "def check_iron_ylds(output):\n",
    "    \"\"\"\n",
    "    Computes the difference between total ylds column and ylds due to iron deficiency.\n",
    "    The difference should be positive for each row of output.\n",
    "    \"\"\"\n",
    "    differences = output.years_lived_with_disability - output.ylds_due_to_iron_deficiency\n",
    "    print(differences.describe())\n",
    "    differences.hist()"
   ]
  },
  {
   "cell_type": "code",
   "execution_count": null,
   "metadata": {},
   "outputs": [],
   "source": [
    "check_iron_ylds(output)"
   ]
  },
  {
   "cell_type": "markdown",
   "metadata": {},
   "source": [
    "## Check the values of total ylds, ylds due to iron deficiency, and ylds due to PEM\n",
    "\n",
    "It looks like things are in order. Iron deficiency is still the vast majority of the ylds\n",
    "\n",
    "These values are for each random seed. Since there are 5 seeds per draw, overall values for each draw should be about 5 times as big."
   ]
  },
  {
   "cell_type": "code",
   "execution_count": null,
   "metadata": {},
   "outputs": [],
   "source": [
    "print(output.years_lived_with_disability.describe())\n",
    "output.years_lived_with_disability.hist()"
   ]
  },
  {
   "cell_type": "code",
   "execution_count": null,
   "metadata": {},
   "outputs": [],
   "source": [
    "print(output.ylds_due_to_iron_deficiency.describe())\n",
    "output.ylds_due_to_iron_deficiency.hist()"
   ]
  },
  {
   "cell_type": "code",
   "execution_count": null,
   "metadata": {},
   "outputs": [],
   "source": [
    "print(output.ylds_due_to_protein_energy_malnutrition.describe())\n",
    "output.ylds_due_to_protein_energy_malnutrition.hist()"
   ]
  },
  {
   "cell_type": "markdown",
   "metadata": {},
   "source": [
    "## Check code in new module `sqlns_output_processing.py`\n",
    "\n",
    "Woo hoo! It seems to work."
   ]
  },
  {
   "cell_type": "code",
   "execution_count": null,
   "metadata": {},
   "outputs": [],
   "source": [
    "df = sop.get_transformed_data(output)\n",
    "df"
   ]
  },
  {
   "cell_type": "code",
   "execution_count": null,
   "metadata": {},
   "outputs": [],
   "source": [
    "averted_df = sop.get_averted_results(df)\n",
    "averted_df"
   ]
  },
  {
   "cell_type": "code",
   "execution_count": null,
   "metadata": {},
   "outputs": [],
   "source": [
    "aggregated_df = sop.get_final_table(averted_df)\n",
    "aggregated_df"
   ]
  },
  {
   "cell_type": "code",
   "execution_count": null,
   "metadata": {},
   "outputs": [],
   "source": []
  }
 ],
 "metadata": {
  "kernelspec": {
   "display_name": "Python 3",
   "language": "python",
   "name": "python3"
  },
  "language_info": {
   "codemirror_mode": {
    "name": "ipython",
    "version": 3
   },
   "file_extension": ".py",
   "mimetype": "text/x-python",
   "name": "python",
   "nbconvert_exporter": "python",
   "pygments_lexer": "ipython3",
   "version": "3.6.8"
  }
 },
 "nbformat": 4,
 "nbformat_minor": 4
}
