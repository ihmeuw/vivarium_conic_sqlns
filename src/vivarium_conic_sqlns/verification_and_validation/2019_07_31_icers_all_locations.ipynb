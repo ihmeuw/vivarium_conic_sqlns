{
 "cells": [
  {
   "cell_type": "code",
   "execution_count": null,
   "metadata": {},
   "outputs": [],
   "source": [
    "%matplotlib inline\n",
    "%load_ext autoreload\n",
    "%autoreload 2\n",
    "\n",
    "import pandas as pd\n",
    "import matplotlib.pyplot as plt\n",
    "from ipywidgets import interact, IntSlider\n",
    "\n",
    "pd.set_option('display.max_rows', 8)\n",
    "\n",
    "!date\n",
    "!whoami"
   ]
  },
  {
   "cell_type": "code",
   "execution_count": null,
   "metadata": {},
   "outputs": [],
   "source": [
    "import vivarium_conic_sqlns.verification_and_validation.sqlns_output_processing as sop"
   ]
  },
  {
   "cell_type": "markdown",
   "metadata": {},
   "source": [
    "## Get file paths for locations"
   ]
  },
  {
   "cell_type": "code",
   "execution_count": null,
   "metadata": {},
   "outputs": [],
   "source": [
    "!ls /share/costeffectiveness/results/sqlns/presentation/country_comparison/nigeria"
   ]
  },
  {
   "cell_type": "code",
   "execution_count": null,
   "metadata": {},
   "outputs": [],
   "source": [
    "# Base directory for output files. Subdirectories are assumed to be of the form 'location/run_date/'\n",
    "base_directory = '/share/costeffectiveness/results/sqlns/presentation/country_comparison'\n",
    "\n",
    "# Map countries to the correct run date = subdirectory name\n",
    "locations_run_dates = {\n",
    "    'Bangladesh': '2019_07_30_19_09_43',\n",
    "    'Burkina_Faso': '2019_07_30_19_15_13',\n",
    "    'Ethiopia': '2019_07_30_19_18_21',\n",
    "    'India': '2019_07_30_19_21_23',\n",
    "    'Nigeria': '2019_07_30_19_24_09',\n",
    "    }\n",
    "\n",
    "locations = list(locations_run_dates.keys())"
   ]
  },
  {
   "cell_type": "markdown",
   "metadata": {},
   "source": [
    "## Load data, check output shapes"
   ]
  },
  {
   "cell_type": "code",
   "execution_count": null,
   "metadata": {},
   "outputs": [],
   "source": [
    "all_output = sop.load_by_location_and_rundate(base_directory, locations_run_dates)\n",
    "sop.print_location_output_shapes(locations, all_output) # Some seeds are missing"
   ]
  },
  {
   "cell_type": "code",
   "execution_count": null,
   "metadata": {},
   "outputs": [],
   "source": [
    "# 12 scenarios * 33 input draws * 5 random seeds = 1980 rows expected\n",
    "12*33*5"
   ]
  },
  {
   "cell_type": "markdown",
   "metadata": {},
   "source": [
    "## Find index columns (location, intervention, draw)"
   ]
  },
  {
   "cell_type": "code",
   "execution_count": null,
   "metadata": {},
   "outputs": [],
   "source": [
    "# Find index columns\n",
    "all_output.filter(regex='location|sqlns|draw')"
   ]
  },
  {
   "cell_type": "code",
   "execution_count": null,
   "metadata": {},
   "outputs": [],
   "source": [
    "intervention_colname_mapper = {\n",
    "#         'sqlns.effect_on_child_stunting.permanent': 'stunting_permanent',\n",
    "#         'sqlns.effect_on_child_wasting.permanent': 'wasting_permanent',\n",
    "#         'sqlns.effect_on_iron_deficiency.permanent': 'iron_permanent',\n",
    "        'sqlns.duration': 'duration',\n",
    "#         'sqlns.effect_on_iron_deficiency.mean': 'iron_mean',\n",
    "#         'sqlns.effect_on_iron_deficiency.sd': 'iron_sd', \n",
    "        'sqlns.program_coverage': 'coverage',\n",
    "    }\n",
    "\n",
    "index_cols = ['location', 'duration', 'coverage', 'input_draw']\n",
    "\n",
    "cause_names = ['lower_respiratory_infections', 'measles', 'diarrheal_diseases', \n",
    "               'protein_energy_malnutrition', 'iron_deficiency', 'other_causes']\n",
    "\n",
    "# risk_names = ['anemia', 'child_stunting', 'child_wasting']"
   ]
  },
  {
   "cell_type": "markdown",
   "metadata": {},
   "source": [
    "## For each location, drop draws that are missing random seeds\n",
    "\n",
    "Part of the code for this function was prototyped in `2019_07_30_verify_yld_bug_fix.ipynb` on 7/31/2019."
   ]
  },
  {
   "cell_type": "code",
   "execution_count": null,
   "metadata": {},
   "outputs": [],
   "source": [
    "def drop_incomplete_draws(output, num_seeds, num_scenarios):\n",
    "    \"\"\"For each location, drop any draws that are missing a random seed for at least one scenario.\"\"\"\n",
    "    # Count how many rows there are for each (location, draw) pair\n",
    "    row_counts = output.groupby(['location', 'input_draw']).random_seed.count()\n",
    "    \n",
    "    # Subset to (location, draw) pairs where all scenarios have all seeds\n",
    "    combinations = row_counts[row_counts == num_seeds*num_scenarios].reset_index()\n",
    "    \n",
    "    # Index the original dataframe by the complete (location, draw) pairs found above,\n",
    "    # thereby dropping rows corresponding to incomplete pairs\n",
    "    df = output.set_index(['location', 'input_draw']).loc[\n",
    "        zip(combinations['location'], combinations['input_draw'])].reset_index()\n",
    "    \n",
    "    return df"
   ]
  },
  {
   "cell_type": "code",
   "execution_count": null,
   "metadata": {},
   "outputs": [],
   "source": [
    "output = drop_incomplete_draws(all_output, num_seeds=5, num_scenarios=12)\n",
    "output"
   ]
  },
  {
   "cell_type": "markdown",
   "metadata": {},
   "source": [
    "## Sum over random seeds, then transform dataframe to long form"
   ]
  },
  {
   "cell_type": "code",
   "execution_count": null,
   "metadata": {},
   "outputs": [],
   "source": [
    "df = sop.clean_and_aggregate(output, intervention_colname_mapper, index_cols, 'coverage')\n",
    "df"
   ]
  },
  {
   "cell_type": "code",
   "execution_count": null,
   "metadata": {},
   "outputs": [],
   "source": [
    "# # Testing intermediate step\n",
    "# sop.get_disaggregated_results(df, cause_names, index_cols)"
   ]
  },
  {
   "cell_type": "code",
   "execution_count": null,
   "metadata": {},
   "outputs": [],
   "source": [
    "# # Testing intermediate step\n",
    "# sop.get_all_cause_results(df, index_cols)"
   ]
  },
  {
   "cell_type": "code",
   "execution_count": null,
   "metadata": {},
   "outputs": [],
   "source": [
    "results = sop.get_transformed_data(df, cause_names, index_cols)\n",
    "results"
   ]
  },
  {
   "cell_type": "markdown",
   "metadata": {},
   "source": [
    "## Get averted results"
   ]
  },
  {
   "cell_type": "code",
   "execution_count": null,
   "metadata": {},
   "outputs": [],
   "source": [
    "averted_df = sop.get_averted_results(results, index_cols, 'coverage')\n",
    "averted_df"
   ]
  },
  {
   "cell_type": "markdown",
   "metadata": {},
   "source": [
    "## Get aggregated results\n",
    "\n",
    "Something seems to have gone wrong with India and Nigeria. Their averted results are all approximately 0 for all coverage levels."
   ]
  },
  {
   "cell_type": "code",
   "execution_count": null,
   "metadata": {},
   "outputs": [],
   "source": [
    "aggregated_df = sop.get_final_table(averted_df, index_cols)\n",
    "aggregated_df"
   ]
  },
  {
   "cell_type": "code",
   "execution_count": null,
   "metadata": {},
   "outputs": [],
   "source": [
    "# India's averted results are all very close to 0. So are Nigeria's\n",
    "aggregated_df.loc[('India', 365.25, slice(80,100)), 'averted']"
   ]
  },
  {
   "cell_type": "markdown",
   "metadata": {},
   "source": [
    "## Save \"treated days per averted DALY\" to file for plotting ICERS by location"
   ]
  },
  {
   "cell_type": "code",
   "execution_count": null,
   "metadata": {},
   "outputs": [],
   "source": [
    "idx = pd.IndexSlice\n",
    "aggregated_df.loc[\n",
    "    idx['Bangladesh':'Ethiopia',365.25,40,'all_causes', 'dalys'], \n",
    "    'treated_days_per_averted']"
   ]
  },
  {
   "cell_type": "code",
   "execution_count": null,
   "metadata": {},
   "outputs": [],
   "source": [
    "# aggregated_df.loc[\n",
    "#     idx['Bangladesh':'Ethiopia',365.25,40,'all_causes', 'dalys'], \n",
    "#     'treated_days_per_averted'].to_csv(\n",
    "#     '/snfs1/Project/simulation_science/mnch/Interventions/sq-lns/presentations/results/'\n",
    "#     'treated_days_per_averted_daly_coverage40.csv'\n",
    "# )"
   ]
  },
  {
   "cell_type": "code",
   "execution_count": null,
   "metadata": {},
   "outputs": [],
   "source": [
    "!ls /snfs1/Project/simulation_science/mnch/Interventions/sq-lns/presentations/results/"
   ]
  },
  {
   "cell_type": "markdown",
   "metadata": {},
   "source": [
    "## Plot ICERs using minimal modification to original code to see if it works\n",
    "\n",
    "Oops, it's plotting all locations at once. I need to loop through locations to fix it. See below."
   ]
  },
  {
   "cell_type": "code",
   "execution_count": null,
   "metadata": {},
   "outputs": [],
   "source": [
    "measures = averted_df.measure.unique()\n",
    "averted_cause_list = averted_df.cause.unique()\n",
    "print(measures, averted_cause_list)"
   ]
  },
  {
   "cell_type": "code",
   "execution_count": null,
   "metadata": {},
   "outputs": [],
   "source": [
    "days_per_year = 365.25\n",
    "\n",
    "# @interact()\n",
    "# def plot_icers(duration=[365.25, 730.50],\n",
    "#                     cgf_permanent=[False, True],\n",
    "#                     iron_permanent=[False, True],\n",
    "#                     iron_mean=[0.895, 4.475, 8.950],\n",
    "#                               measure=measures,\n",
    "#                               cause=averted_cause_list,\n",
    "#                               cost_per_py=cost_slider,\n",
    "#                   ):\n",
    "def plot_icers_and_costs_and_dalys(aggregated_df,\n",
    "               duration=365.25,\n",
    "                    cgf_permanent=False,\n",
    "                    iron_permanent=False,\n",
    "                    iron_mean=4.475,\n",
    "                              measure='dalys',\n",
    "                              cause='all_causes',\n",
    "                              cost_per_py=67,\n",
    "                  ):\n",
    "    \n",
    "    data = aggregated_df.reset_index()\n",
    "    \n",
    "    data = data.loc[(data.duration == duration)\n",
    "#                   & (data.child_stunting_permanent == cgf_permanent)\n",
    "#                   & (data.child_wasting_permanent == cgf_permanent)\n",
    "#                   & (data.iron_deficiency_permanent == iron_permanent)\n",
    "#                   & (data.iron_deficiency_mean == iron_mean)\n",
    "                  & (data.cause == cause)\n",
    "                  & (data.measure == measure)]\n",
    "    \n",
    "    fig, ax = plt.subplots(2,2, figsize=(14,9))\n",
    "    \n",
    "    xx = data['coverage']\n",
    "    \n",
    "    # Plot cost vs. coverage\n",
    "    mean = cost_per_py * data[('sqlns_treated_days', 'mean')] / days_per_year\n",
    "    lb = cost_per_py * data[('sqlns_treated_days', '2.5%')] / days_per_year\n",
    "    ub = cost_per_py * data[('sqlns_treated_days', '97.5%')] / days_per_year\n",
    "    ax[0,0].plot(xx, mean, '-o')\n",
    "    ax[0,0].fill_between(xx, lb, ub, alpha=0.8)\n",
    "    \n",
    "    # Plot averted measure vs. coverage\n",
    "    mean = data[('averted', 'mean')]\n",
    "    lb = data[('averted', '2.5%')]\n",
    "    ub = data[('averted', '97.5%')]\n",
    "    ax[1,0].plot(xx, mean, '-o', color='orange')\n",
    "    ax[1,0].fill_between(xx, lb, ub, alpha=0.1, color='orange')\n",
    "    \n",
    "    # Plot ICERs calculated using raw values\n",
    "    mean = cost_per_py * data[('treated_days_per_averted', 'mean')] / days_per_year\n",
    "    lb = cost_per_py * data[('treated_days_per_averted', '2.5%')] / days_per_year\n",
    "    ub = cost_per_py * data[('treated_days_per_averted', '97.5%')] / days_per_year\n",
    "    ax[0,1].plot(xx, mean, '-o', color='green')\n",
    "    ax[0,1].fill_between(xx, lb, ub, alpha=0.1, color='green')\n",
    "    \n",
    "    # Plot ICERs calculated using rates\n",
    "    mean = cost_per_py * data[('treated_days_per_averted_rate', 'mean')] / days_per_year\n",
    "    lb = cost_per_py * data[('treated_days_per_averted_rate', '2.5%')] / days_per_year\n",
    "    ub = cost_per_py * data[('treated_days_per_averted_rate', '97.5%')] / days_per_year\n",
    "    ax[1,1].plot(xx, mean, '-o', color='green')\n",
    "    ax[1,1].fill_between(xx, lb, ub, alpha=0.1, color='green')\n",
    "\n",
    "    ## Label the plots\n",
    "    \n",
    "    ax[0,0].set_title('Total cost vs. coverage', fontsize=16)\n",
    "    ax[0,0].set_xlabel('Program Coverage (%)', fontsize=12)\n",
    "    ax[0,0].set_ylabel('Cost of SQ-LNS\\ntreatment ($)', fontsize=16)\n",
    "    ax[0,0].grid()\n",
    "#         ax[i,0].legend(loc=(0.8, -.25), fontsize=14)\n",
    "\n",
    "    ax[1,0].set_title(f'Averted {measure} vs. coverage', fontsize=16)\n",
    "    ax[1,0].set_xlabel('Program Coverage (%)', fontsize=12)\n",
    "    ax[1,0].set_ylabel(f'Averted {measure}', fontsize=16)\n",
    "    ax[1,0].grid()\n",
    "\n",
    "    ax[0,1].set_title('Cost effectiveness (ICERs)\\nvs. coverage', fontsize=16)\n",
    "    ax[0,1].set_xlabel('Program Coverage (%)', fontsize=12)\n",
    "    ax[0,1].set_ylabel(f'Cost per averted {measure}', fontsize=12)\n",
    "    ax[0,1].grid()\n",
    "    \n",
    "    ax[1,1].set_title('Cost effectiveness (ICERs)\\nvs. coverage', fontsize=16)\n",
    "    ax[1,1].set_xlabel('Program Coverage (%)', fontsize=12)\n",
    "    ax[1,1].set_ylabel(f'Cost per averted {measure}\\n(calculated using rate difference)', fontsize=12)\n",
    "    ax[1,1].grid()\n",
    "        \n",
    "    fig.tight_layout()"
   ]
  },
  {
   "cell_type": "code",
   "execution_count": null,
   "metadata": {},
   "outputs": [],
   "source": [
    "plot_icers_and_costs_and_dalys(aggregated_df)"
   ]
  },
  {
   "cell_type": "markdown",
   "metadata": {},
   "source": [
    "## Plot ICERs and DALYs averted"
   ]
  },
  {
   "cell_type": "code",
   "execution_count": null,
   "metadata": {},
   "outputs": [],
   "source": [
    "aggregated_df.reset_index()['location'].unique()"
   ]
  },
  {
   "cell_type": "code",
   "execution_count": null,
   "metadata": {},
   "outputs": [],
   "source": [
    "def plot_icers_and_dalys(aggregated_df,\n",
    "               duration=365.25,\n",
    "                  measure='dalys',\n",
    "                  cause='all_causes',\n",
    "                  cost_per_py=67,\n",
    "                  ):\n",
    "    \n",
    "    data = aggregated_df.reset_index()\n",
    "    \n",
    "    data = data.loc[(data.duration == duration)\n",
    "                  & (data.cause == cause)\n",
    "                  & (data.measure == measure)]\n",
    "    \n",
    "    fig, ax = plt.subplots(1,2, figsize=(14, 6))\n",
    "    \n",
    "    for location in data['location'].unique():\n",
    "        loc_data = data[data['location']==location]\n",
    "        xx = loc_data['coverage']\n",
    "        # Plot averted measure vs. coverage\n",
    "        mean = loc_data[('averted', 'mean')]\n",
    "        lb = loc_data[('averted', '2.5%')]\n",
    "        ub = loc_data[('averted', '97.5%')]\n",
    "        ax[0].plot(xx, mean, '-o', label=location)\n",
    "        ax[0].fill_between(xx, lb, ub, alpha=0.1)\n",
    "\n",
    "        # Plot ICERs calculated using raw values\n",
    "        mean = cost_per_py * loc_data[('treated_days_per_averted', 'mean')] / days_per_year\n",
    "        lb = cost_per_py * loc_data[('treated_days_per_averted', '2.5%')] / days_per_year\n",
    "        ub = cost_per_py * loc_data[('treated_days_per_averted', '97.5%')] / days_per_year\n",
    "        ax[1].plot(xx, mean, '-o', label=location)\n",
    "        ax[1].fill_between(xx, lb, ub, alpha=0.1)\n",
    "    \n",
    "    ## Label the plots\n",
    "\n",
    "    ax[0].set_title(f'Averted {measure} vs. coverage', fontsize=16)\n",
    "    ax[0].set_xlabel('Program Coverage (%)', fontsize=12)\n",
    "    ax[0].set_ylabel(f'Averted {measure}', fontsize=16)\n",
    "    ax[0].grid()\n",
    "    ax[0].legend()\n",
    "\n",
    "    ax[1].set_title('Cost effectiveness (ICERs)\\nvs. coverage', fontsize=16)\n",
    "    ax[1].set_xlabel('Program Coverage (%)', fontsize=12)\n",
    "    ax[1].set_ylabel(f'Cost per averted {measure}', fontsize=12)\n",
    "    ax[1].grid()\n",
    "    ax[1].legend()\n",
    "        \n",
    "    fig.tight_layout()"
   ]
  },
  {
   "cell_type": "code",
   "execution_count": null,
   "metadata": {},
   "outputs": [],
   "source": [
    "plot_icers_and_dalys(aggregated_df)"
   ]
  },
  {
   "cell_type": "markdown",
   "metadata": {},
   "source": [
    "## Plot ICERs only, for presentation"
   ]
  },
  {
   "cell_type": "code",
   "execution_count": null,
   "metadata": {},
   "outputs": [],
   "source": [
    "def plot_icers(aggregated_df,\n",
    "               duration=365.25,\n",
    "                  measure='dalys',\n",
    "                  cause='all_causes',\n",
    "                  cost_per_py=67,\n",
    "                  ):\n",
    "    \n",
    "    data = aggregated_df.reset_index()\n",
    "    \n",
    "    data = data.loc[(data.duration == duration)\n",
    "                  & (data.cause == cause)\n",
    "                  & (data.measure == measure)]\n",
    "    \n",
    "    fig, ax = plt.subplots(figsize=(10, 6), dpi=300)\n",
    "    \n",
    "    for location in data['location'].unique():\n",
    "        # India and Nigeria data looks wrong - omit it for presentation plot\n",
    "        if location in ['India', 'Nigeria']: continue\n",
    "\n",
    "        # Plot ICERs calculated using raw values\n",
    "        loc_data = data[data['location']==location]\n",
    "        xx = loc_data['coverage']\n",
    "        mean = cost_per_py * loc_data[('treated_days_per_averted', 'mean')] / days_per_year\n",
    "        lb = cost_per_py * loc_data[('treated_days_per_averted', '2.5%')] / days_per_year\n",
    "        ub = cost_per_py * loc_data[('treated_days_per_averted', '97.5%')] / days_per_year\n",
    "#         mean = cost_per_py * loc_data['mean'] / days_per_year\n",
    "#         lb = cost_per_py * loc_data['2.5%'] / days_per_year\n",
    "#         ub = cost_per_py * loc_data['97.5%'] / days_per_year\n",
    "        ax.plot(xx, mean, '-o', label=location)\n",
    "        ax.fill_between(xx, lb, ub, alpha=0.1)\n",
    "    \n",
    "    ## Label the plots\n",
    "\n",
    "    ax.set_title('Cost effectiveness (ICERs) vs. coverage', fontsize=18)\n",
    "    ax.set_xlabel('Program Coverage (%)', fontsize=16)\n",
    "    ax.set_ylabel(f'Cost per averted DALY', fontsize=16)\n",
    "    ax.grid()\n",
    "    ax.legend(fontsize=14)\n",
    "        \n",
    "    fig.tight_layout()"
   ]
  },
  {
   "cell_type": "code",
   "execution_count": null,
   "metadata": {},
   "outputs": [],
   "source": [
    "plot_icers(aggregated_df)"
   ]
  },
  {
   "cell_type": "code",
   "execution_count": null,
   "metadata": {},
   "outputs": [],
   "source": []
  }
 ],
 "metadata": {
  "kernelspec": {
   "display_name": "Python [conda env:vivarium_conic_sqlns]",
   "language": "python",
   "name": "conda-env-vivarium_conic_sqlns-py"
  },
  "language_info": {
   "codemirror_mode": {
    "name": "ipython",
    "version": 3
   },
   "file_extension": ".py",
   "mimetype": "text/x-python",
   "name": "python",
   "nbconvert_exporter": "python",
   "pygments_lexer": "ipython3",
   "version": "3.6.8"
  }
 },
 "nbformat": 4,
 "nbformat_minor": 4
}
